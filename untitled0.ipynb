{
  "nbformat": 4,
  "nbformat_minor": 0,
  "metadata": {
    "colab": {
      "provenance": [],
      "authorship_tag": "ABX9TyPQjF2BDX4q1hXm73/hqm7a",
      "include_colab_link": true
    },
    "kernelspec": {
      "name": "python3",
      "display_name": "Python 3"
    },
    "language_info": {
      "name": "python"
    }
  },
  "cells": [
    {
      "cell_type": "markdown",
      "metadata": {
        "id": "view-in-github",
        "colab_type": "text"
      },
      "source": [
        "<a href=\"https://colab.research.google.com/github/leemeem14/datahw/blob/main/untitled0.ipynb\" target=\"_parent\"><img src=\"https://colab.research.google.com/assets/colab-badge.svg\" alt=\"Open In Colab\"/></a>"
      ]
    },
    {
      "cell_type": "code",
      "source": [
        "# Colab/Python 3에서 바로 실행\n",
        "\n",
        "from sklearn.datasets import load_iris\n",
        "from sklearn.model_selection import train_test_split\n",
        "from sklearn.neighbors import KNeighborsClassifier\n",
        "\n",
        "# 1) 데이터셋 불러오기 (Iris)\n",
        "iris = load_iris()\n",
        "X, y = iris.data, iris.target\n",
        "\n",
        "# 2) 학습/테스트 분리\n",
        "X_train, X_test, y_train, y_test = train_test_split(\n",
        "    X, y, test_size=0.2, stratify=y, random_state=42\n",
        ")\n",
        "\n",
        "# 3) K와 거리(metric) 설정\n",
        "#    metric='minkowski', p=2 는 유클리드 거리와 동일\n",
        "k = 5\n",
        "knn = KNeighborsClassifier(n_neighbors=k, metric='minkowski', p=2)\n",
        "\n",
        "# 4) 학습(저장) 및 예측\n",
        "knn.fit(X_train, y_train)\n",
        "pred = knn.predict(X_test)\n",
        "\n",
        "# 5) 결과 출력\n",
        "acc = knn.score(X_test, y_test)\n",
        "print(f\"K={k}, metric=euclidean -> Accuracy: {acc:.3f}\")\n",
        "print(\"예측 라벨(일부):\", pred[:10])\n"
      ],
      "metadata": {
        "id": "b4vROTdYMvwu"
      },
      "execution_count": null,
      "outputs": []
    },
    {
      "cell_type": "code",
      "source": [
        "# Colab: 런타임 유형(Python 3)에서 바로 실행 가능\n",
        "#K-means\n",
        "import numpy as np\n",
        "import matplotlib.pyplot as plt\n",
        "from sklearn.datasets import make_blobs\n",
        "from sklearn.cluster import KMeans\n",
        "\n",
        "# 1) 데이터 생성 (가상 2D 데이터)\n",
        "X, y_true = make_blobs(\n",
        "    n_samples=400, centers=3, cluster_std=0.80, random_state=42\n",
        ")\n",
        "\n",
        "# 2) k-means 학습\n",
        "k = 3\n",
        "kmeans = KMeans(n_clusters=k, n_init='auto', random_state=42)\n",
        "labels = kmeans.fit_predict(X)\n",
        "centers = kmeans.cluster_centers_\n",
        "\n",
        "# 3) 결과 시각화\n",
        "plt.figure(figsize=(6, 5))\n",
        "plt.scatter(X[:, 0], X[:, 1], c=labels, s=20, cmap='viridis', alpha=0.7)\n",
        "plt.scatter(centers[:, 0], centers[:, 1],\n",
        "            c='red', s=120, marker='X', edgecolors='black', linewidths=1.5,\n",
        "            label='centroids')\n",
        "plt.title('k-means clustering (k=3)')\n",
        "plt.legend()\n",
        "plt.tight_layout()\n",
        "plt.show()\n",
        "\n",
        "# 선택: 군집 응집도 지표(관성; SSE) 출력\n",
        "print(f\"Inertia: {kmeans.inertia_:.2f}\")"
      ],
      "metadata": {
        "id": "EtUpI-xrODSa"
      },
      "execution_count": null,
      "outputs": []
    },
    {
      "cell_type": "code",
      "source": [
        "# Colab: Python 3 런타임에서 바로 실행 가능\n",
        "#계층적 군집화\n",
        "import numpy as np\n",
        "import matplotlib.pyplot as plt\n",
        "\n",
        "from sklearn.datasets import make_blobs\n",
        "from sklearn.cluster import AgglomerativeClustering\n",
        "\n",
        "from scipy.cluster.hierarchy import dendrogram, linkage\n",
        "\n",
        "# 1) 데이터 생성 (가상 2D 데이터)\n",
        "X, y_true = make_blobs(\n",
        "    n_samples=300, centers=3, cluster_std=0.70, random_state=42\n",
        ")\n",
        "\n",
        "# 2) 덴드로그램용 계층적 연결 (SciPy linkage)\n",
        "Z = linkage(X, method='ward')  # 유클리드 기반 분산 최소화 병합\n",
        "\n",
        "plt.figure(figsize=(7, 4))\n",
        "dendrogram(Z, truncate_mode='lastp', p=20, leaf_rotation=90, leaf_font_size=10)\n",
        "plt.title('Hierarchical Clustering Dendrogram (truncated)')\n",
        "plt.xlabel('Sample index or (cluster size)')\n",
        "plt.ylabel('Distance')\n",
        "plt.tight_layout()\n",
        "plt.show()\n",
        "\n",
        "# 3) AgglomerativeClustering으로 레이블 추정\n",
        "model = AgglomerativeClustering(n_clusters=3, linkage='ward')  # ward는 euclidean 전용\n",
        "labels = model.fit_predict(X)\n",
        "\n",
        "# 4) 평면 시각화\n",
        "plt.figure(figsize=(6, 5))\n",
        "scatter = plt.scatter(X[:, 0], X[:, 1], c=labels, s=20, cmap='viridis', alpha=0.8)\n",
        "plt.title('Agglomerative Clustering (n_clusters=3, linkage=ward)')\n",
        "plt.tight_layout()\n",
        "plt.show()\n"
      ],
      "metadata": {
        "id": "x-4QRtzsMpe1"
      },
      "execution_count": null,
      "outputs": []
    }
  ]
}